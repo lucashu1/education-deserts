{
 "cells": [
  {
   "cell_type": "markdown",
   "metadata": {},
   "source": [
    "# Data Pre-processing\n",
    "\n",
    "__Running this notebook will produce a json file with the census tracts that are 50 miles away from each other as well as a csv file containing the number of universities accessible by each census tract and whether or not it is an education desert__"
   ]
  },
  {
   "cell_type": "markdown",
   "metadata": {},
   "source": [
    "---\n",
    "## Data Mining\n",
    "__In this section we will read in census tract data, representing each cenus tract as a graph node with location of node at the centroid of the polygon__"
   ]
  },
  {
   "cell_type": "code",
   "execution_count": 1,
   "metadata": {},
   "outputs": [],
   "source": [
    "# Library Imports\n",
    "import fiona \n",
    "import rtree\n",
    "import shapely\n",
    "import geopandas as gpd\n",
    "import pandas as pd\n",
    "import numpy as np\n",
    "import subprocess\n",
    "import os\n",
    "import requests\n",
    "from bs4 import BeautifulSoup\n",
    "import seaborn as sns\n",
    "sns.set(style=\"ticks\")\n",
    "\n",
    "# Output Images Settings\n",
    "from pylab import rcParams\n",
    "rcParams['figure.figsize'] = 14, 14\n",
    "\n",
    "# default dictionary (a dictionary with a default value if a key doesn't exist)\n",
    "from collections import defaultdict\n",
    "\n",
    "# To unzip file\n",
    "import zipfile\n",
    "\n",
    "# To have progress bar\n",
    "from tqdm import tqdm\n",
    "import json\n",
    "\n",
    "# plotting libraries\n",
    "import matplotlib\n",
    "import matplotlib.pyplot as plt\n",
    "plt.style.use('seaborn-paper')\n",
    "%matplotlib inline\n",
    "\n",
    "# Constants\n",
    "BUFFER = 1609.34 # 1 mile in metres\n",
    "\n",
    "# Helper function to create a new folder\n",
    "def mkdir(path):\n",
    "    try: \n",
    "        os.makedirs(path)\n",
    "    except OSError:\n",
    "        if not os.path.isdir(path):\n",
    "            raise\n",
    "        else:\n",
    "            print(\"(%s) already exists\" % (path))"
   ]
  },
  {
   "cell_type": "code",
   "execution_count": 2,
   "metadata": {},
   "outputs": [
    {
     "name": "stdout",
     "output_type": "stream",
     "text": [
      "{'init': 'epsg:4269'}\n"
     ]
    }
   ],
   "source": [
    "with fiona.Env():\n",
    "    ds = fiona.open('./datasets/census_tracts/Alabama/')\n",
    "    print(ds.crs)"
   ]
  },
  {
   "cell_type": "markdown",
   "metadata": {},
   "source": [
    "---\n",
    "## Datasets"
   ]
  },
  {
   "cell_type": "code",
   "execution_count": 3,
   "metadata": {},
   "outputs": [
    {
     "name": "stdout",
     "output_type": "stream",
     "text": [
      "(datasets/) already exists\n"
     ]
    }
   ],
   "source": [
    "# Census tracts shapefiles url\n",
    "ct_shape_url = 'https://www.census.gov/geo/maps-data/data/cbf/cbf_tracts.html'\n",
    "\n",
    "# Census tracts data url from 2012 - 2017\n",
    "ct_file_name = 'acs_5_year_estimates_census_tracts.csv'\n",
    "ct_data_url = 'https://www.dropbox.com/s/ni28x7mw6uh00dg/' + ct_file_name + '.zip?dl=1'\n",
    "\n",
    "# American University Data\n",
    "au_file_name = 'IPEDS_data.xlsx'\n",
    "au_data_url = 'https://public.tableau.com/s/sites/default/files/media/Resources/' + au_file_name\n",
    "\n",
    "# Directory of datasets\n",
    "DATASETS_PATH = 'datasets/'\n",
    "\n",
    "# Directory of census tract shapefile data\n",
    "CENSUS_TRACTS_PATH = DATASETS_PATH + 'census_tracts/'\n",
    "\n",
    "# Make the directory for the census tracts shapefiles data\n",
    "mkdir(DATASETS_PATH)\n",
    "\n",
    "# Remove any old data for census tracts shapefiles\n",
    "# subprocess.call(['rm', '-rf', CENSUS_TRACTS_PATH])"
   ]
  },
  {
   "cell_type": "markdown",
   "metadata": {},
   "source": [
    "### Census Tract Data\n",
    "\n",
    "__Census Tracts have a population of around ${2,500}$ - ${8,000}$ people__"
   ]
  },
  {
   "cell_type": "code",
   "execution_count": 4,
   "metadata": {},
   "outputs": [],
   "source": [
    "# Download data \n",
    "if not os.path.isfile(DATASETS_PATH + ct_file_name):\n",
    "    \n",
    "    os.system('!wget --directory-prefix={} -Nq {}'.format(DATASETS_PATH, ct_data_url))\n",
    "    \n",
    "    # Unzipping the file\n",
    "    zip_ref = zipfile.ZipFile(DATASETS_PATH + ct_file_name + '.zip', 'r')\n",
    "    zip_ref.extractall(DATASETS_PATH + ct_file_name + '/')\n",
    "    zip_ref.close()\n",
    "    \n",
    "    # Remove the old census tract .zip shapefile\n",
    "    subprocess.call(['rm', '-rf', DATASETS_PATH + ct_file_name + '.zip'])"
   ]
  },
  {
   "cell_type": "code",
   "execution_count": 5,
   "metadata": {},
   "outputs": [
    {
     "data": {
      "text/html": [
       "<div>\n",
       "<style scoped>\n",
       "    .dataframe tbody tr th:only-of-type {\n",
       "        vertical-align: middle;\n",
       "    }\n",
       "\n",
       "    .dataframe tbody tr th {\n",
       "        vertical-align: top;\n",
       "    }\n",
       "\n",
       "    .dataframe thead th {\n",
       "        text-align: right;\n",
       "    }\n",
       "</style>\n",
       "<table border=\"1\" class=\"dataframe\">\n",
       "  <thead>\n",
       "    <tr style=\"text-align: right;\">\n",
       "      <th></th>\n",
       "      <th>FIPS</th>\n",
       "      <th>Geographic Identifier</th>\n",
       "      <th>Name of Area</th>\n",
       "      <th>Qualifying Name</th>\n",
       "      <th>State/U.S.-Abbreviation (USPS)</th>\n",
       "      <th>Summary Level</th>\n",
       "      <th>Geographic Component</th>\n",
       "      <th>File Identification</th>\n",
       "      <th>Logical Record Number</th>\n",
       "      <th>US</th>\n",
       "      <th>...</th>\n",
       "      <th>Civilian Population 16 Years and Over for Whom Poverty Status Is Determined: Income in the Past 12 Months Below Poverty Level: Male: in Labor Force: Employed</th>\n",
       "      <th>Civilian Population 16 Years and Over for Whom Poverty Status Is Determined: Income in the Past 12 Months Below Poverty Level: Male: in Labor Force: Unemployed</th>\n",
       "      <th>Civilian Population 16 Years and Over for Whom Poverty Status Is Determined: Income in the Past 12 Months Below Poverty Level: Male: Not in Labor Force</th>\n",
       "      <th>Civilian Population 16 Years and Over for Whom Poverty Status Is Determined: Income in the Past 12 Months At or Above Poverty Level</th>\n",
       "      <th>Civilian Population 16 Years and Over for Whom Poverty Status Is Determined: Income in the Past 12 Months At or Above Poverty Level: Male: in Labor Force</th>\n",
       "      <th>Civilian Population 16 Years and Over for Whom Poverty Status Is Determined: Income in the Past 12 Months At or Above Poverty Level: Male: in Labor Force: Employed</th>\n",
       "      <th>Civilian Population 16 Years and Over for Whom Poverty Status Is Determined: Income in the Past 12 Months At or Above Poverty Level: Male: in Labor Force: Unemployed</th>\n",
       "      <th>Civilian Population 16 Years and Over for Whom Poverty Status Is Determined: Income in the Past 12 Months At or Above Poverty Level: Male: Not in Labor Force</th>\n",
       "      <th>Households.1</th>\n",
       "      <th>Households with Housing Costs more than 30% of Income</th>\n",
       "    </tr>\n",
       "  </thead>\n",
       "  <tbody>\n",
       "    <tr>\n",
       "      <th>0</th>\n",
       "      <td>Geo_FIPS</td>\n",
       "      <td>Geo_GEOID</td>\n",
       "      <td>Geo_NAME</td>\n",
       "      <td>Geo_QName</td>\n",
       "      <td>Geo_STUSAB</td>\n",
       "      <td>Geo_SUMLEV</td>\n",
       "      <td>Geo_GEOCOMP</td>\n",
       "      <td>Geo_FILEID</td>\n",
       "      <td>Geo_LOGRECNO</td>\n",
       "      <td>Geo_US</td>\n",
       "      <td>...</td>\n",
       "      <td>SE_T254_004</td>\n",
       "      <td>SE_T254_005</td>\n",
       "      <td>SE_T254_006</td>\n",
       "      <td>SE_T254_007</td>\n",
       "      <td>SE_T254_008</td>\n",
       "      <td>SE_T254_009</td>\n",
       "      <td>SE_T254_010</td>\n",
       "      <td>SE_T254_011</td>\n",
       "      <td>SE_T255_001</td>\n",
       "      <td>SE_T255_002</td>\n",
       "    </tr>\n",
       "    <tr>\n",
       "      <th>1</th>\n",
       "      <td>01001020100</td>\n",
       "      <td>14000US01001020100</td>\n",
       "      <td>Census Tract 201, Autauga County, Alabama</td>\n",
       "      <td>Census Tract 201, Autauga County, Alabama</td>\n",
       "      <td>al</td>\n",
       "      <td>140</td>\n",
       "      <td>00</td>\n",
       "      <td>ACSSF</td>\n",
       "      <td>0001766</td>\n",
       "      <td>NaN</td>\n",
       "      <td>...</td>\n",
       "      <td>36</td>\n",
       "      <td>7</td>\n",
       "      <td>80</td>\n",
       "      <td>1360</td>\n",
       "      <td>880</td>\n",
       "      <td>845</td>\n",
       "      <td>35</td>\n",
       "      <td>480</td>\n",
       "      <td>754</td>\n",
       "      <td>144</td>\n",
       "    </tr>\n",
       "    <tr>\n",
       "      <th>2</th>\n",
       "      <td>01001020200</td>\n",
       "      <td>14000US01001020200</td>\n",
       "      <td>Census Tract 202, Autauga County, Alabama</td>\n",
       "      <td>Census Tract 202, Autauga County, Alabama</td>\n",
       "      <td>al</td>\n",
       "      <td>140</td>\n",
       "      <td>00</td>\n",
       "      <td>ACSSF</td>\n",
       "      <td>0001767</td>\n",
       "      <td>NaN</td>\n",
       "      <td>...</td>\n",
       "      <td>59</td>\n",
       "      <td>0</td>\n",
       "      <td>204</td>\n",
       "      <td>1230</td>\n",
       "      <td>823</td>\n",
       "      <td>793</td>\n",
       "      <td>30</td>\n",
       "      <td>407</td>\n",
       "      <td>783</td>\n",
       "      <td>218</td>\n",
       "    </tr>\n",
       "    <tr>\n",
       "      <th>3</th>\n",
       "      <td>01001020300</td>\n",
       "      <td>14000US01001020300</td>\n",
       "      <td>Census Tract 203, Autauga County, Alabama</td>\n",
       "      <td>Census Tract 203, Autauga County, Alabama</td>\n",
       "      <td>al</td>\n",
       "      <td>140</td>\n",
       "      <td>00</td>\n",
       "      <td>ACSSF</td>\n",
       "      <td>0001768</td>\n",
       "      <td>NaN</td>\n",
       "      <td>...</td>\n",
       "      <td>61</td>\n",
       "      <td>3</td>\n",
       "      <td>305</td>\n",
       "      <td>2291</td>\n",
       "      <td>1491</td>\n",
       "      <td>1421</td>\n",
       "      <td>70</td>\n",
       "      <td>800</td>\n",
       "      <td>1279</td>\n",
       "      <td>357</td>\n",
       "    </tr>\n",
       "    <tr>\n",
       "      <th>4</th>\n",
       "      <td>01001020400</td>\n",
       "      <td>14000US01001020400</td>\n",
       "      <td>Census Tract 204, Autauga County, Alabama</td>\n",
       "      <td>Census Tract 204, Autauga County, Alabama</td>\n",
       "      <td>al</td>\n",
       "      <td>140</td>\n",
       "      <td>00</td>\n",
       "      <td>ACSSF</td>\n",
       "      <td>0001769</td>\n",
       "      <td>NaN</td>\n",
       "      <td>...</td>\n",
       "      <td>16</td>\n",
       "      <td>0</td>\n",
       "      <td>66</td>\n",
       "      <td>3241</td>\n",
       "      <td>1953</td>\n",
       "      <td>1833</td>\n",
       "      <td>120</td>\n",
       "      <td>1288</td>\n",
       "      <td>1749</td>\n",
       "      <td>361</td>\n",
       "    </tr>\n",
       "  </tbody>\n",
       "</table>\n",
       "<p>5 rows × 2161 columns</p>\n",
       "</div>"
      ],
      "text/plain": [
       "          FIPS Geographic Identifier  \\\n",
       "0     Geo_FIPS             Geo_GEOID   \n",
       "1  01001020100    14000US01001020100   \n",
       "2  01001020200    14000US01001020200   \n",
       "3  01001020300    14000US01001020300   \n",
       "4  01001020400    14000US01001020400   \n",
       "\n",
       "                                Name of Area  \\\n",
       "0                                   Geo_NAME   \n",
       "1  Census Tract 201, Autauga County, Alabama   \n",
       "2  Census Tract 202, Autauga County, Alabama   \n",
       "3  Census Tract 203, Autauga County, Alabama   \n",
       "4  Census Tract 204, Autauga County, Alabama   \n",
       "\n",
       "                             Qualifying Name State/U.S.-Abbreviation (USPS)  \\\n",
       "0                                  Geo_QName                     Geo_STUSAB   \n",
       "1  Census Tract 201, Autauga County, Alabama                             al   \n",
       "2  Census Tract 202, Autauga County, Alabama                             al   \n",
       "3  Census Tract 203, Autauga County, Alabama                             al   \n",
       "4  Census Tract 204, Autauga County, Alabama                             al   \n",
       "\n",
       "  Summary Level Geographic Component File Identification  \\\n",
       "0    Geo_SUMLEV          Geo_GEOCOMP          Geo_FILEID   \n",
       "1           140                   00               ACSSF   \n",
       "2           140                   00               ACSSF   \n",
       "3           140                   00               ACSSF   \n",
       "4           140                   00               ACSSF   \n",
       "\n",
       "  Logical Record Number      US  \\\n",
       "0          Geo_LOGRECNO  Geo_US   \n",
       "1               0001766     NaN   \n",
       "2               0001767     NaN   \n",
       "3               0001768     NaN   \n",
       "4               0001769     NaN   \n",
       "\n",
       "                           ...                           \\\n",
       "0                          ...                            \n",
       "1                          ...                            \n",
       "2                          ...                            \n",
       "3                          ...                            \n",
       "4                          ...                            \n",
       "\n",
       "  Civilian Population 16 Years and Over for Whom Poverty Status Is Determined: Income in the Past 12 Months Below Poverty Level: Male: in Labor Force: Employed  \\\n",
       "0                                        SE_T254_004                                                                                                              \n",
       "1                                                 36                                                                                                              \n",
       "2                                                 59                                                                                                              \n",
       "3                                                 61                                                                                                              \n",
       "4                                                 16                                                                                                              \n",
       "\n",
       "  Civilian Population 16 Years and Over for Whom Poverty Status Is Determined: Income in the Past 12 Months Below Poverty Level: Male: in Labor Force: Unemployed  \\\n",
       "0                                        SE_T254_005                                                                                                                \n",
       "1                                                  7                                                                                                                \n",
       "2                                                  0                                                                                                                \n",
       "3                                                  3                                                                                                                \n",
       "4                                                  0                                                                                                                \n",
       "\n",
       "  Civilian Population 16 Years and Over for Whom Poverty Status Is Determined: Income in the Past 12 Months Below Poverty Level: Male: Not in Labor Force  \\\n",
       "0                                        SE_T254_006                                                                                                        \n",
       "1                                                 80                                                                                                        \n",
       "2                                                204                                                                                                        \n",
       "3                                                305                                                                                                        \n",
       "4                                                 66                                                                                                        \n",
       "\n",
       "  Civilian Population 16 Years and Over for Whom Poverty Status Is Determined: Income in the Past 12 Months At or Above Poverty Level  \\\n",
       "0                                        SE_T254_007                                                                                    \n",
       "1                                               1360                                                                                    \n",
       "2                                               1230                                                                                    \n",
       "3                                               2291                                                                                    \n",
       "4                                               3241                                                                                    \n",
       "\n",
       "  Civilian Population 16 Years and Over for Whom Poverty Status Is Determined: Income in the Past 12 Months At or Above Poverty Level: Male: in Labor Force  \\\n",
       "0                                        SE_T254_008                                                                                                          \n",
       "1                                                880                                                                                                          \n",
       "2                                                823                                                                                                          \n",
       "3                                               1491                                                                                                          \n",
       "4                                               1953                                                                                                          \n",
       "\n",
       "  Civilian Population 16 Years and Over for Whom Poverty Status Is Determined: Income in the Past 12 Months At or Above Poverty Level: Male: in Labor Force: Employed  \\\n",
       "0                                        SE_T254_009                                                                                                                    \n",
       "1                                                845                                                                                                                    \n",
       "2                                                793                                                                                                                    \n",
       "3                                               1421                                                                                                                    \n",
       "4                                               1833                                                                                                                    \n",
       "\n",
       "  Civilian Population 16 Years and Over for Whom Poverty Status Is Determined: Income in the Past 12 Months At or Above Poverty Level: Male: in Labor Force: Unemployed  \\\n",
       "0                                        SE_T254_010                                                                                                                      \n",
       "1                                                 35                                                                                                                      \n",
       "2                                                 30                                                                                                                      \n",
       "3                                                 70                                                                                                                      \n",
       "4                                                120                                                                                                                      \n",
       "\n",
       "  Civilian Population 16 Years and Over for Whom Poverty Status Is Determined: Income in the Past 12 Months At or Above Poverty Level: Male: Not in Labor Force  \\\n",
       "0                                        SE_T254_011                                                                                                              \n",
       "1                                                480                                                                                                              \n",
       "2                                                407                                                                                                              \n",
       "3                                                800                                                                                                              \n",
       "4                                               1288                                                                                                              \n",
       "\n",
       "  Households.1 Households with Housing Costs more than 30% of Income  \n",
       "0  SE_T255_001                                        SE_T255_002     \n",
       "1          754                                                144     \n",
       "2          783                                                218     \n",
       "3         1279                                                357     \n",
       "4         1749                                                361     \n",
       "\n",
       "[5 rows x 2161 columns]"
      ]
     },
     "execution_count": 5,
     "metadata": {},
     "output_type": "execute_result"
    }
   ],
   "source": [
    "# Let's take a look at the census tract data\n",
    "census_tracts = pd.read_csv(DATASETS_PATH + ct_file_name, encoding='ISO-8859-1', low_memory=False)\n",
    "census_tracts.head()"
   ]
  },
  {
   "cell_type": "markdown",
   "metadata": {},
   "source": [
    "### American University Data"
   ]
  },
  {
   "cell_type": "code",
   "execution_count": 6,
   "metadata": {},
   "outputs": [],
   "source": [
    "# Download data \n",
    "if not os.path.isfile(DATASETS_PATH + au_file_name):\n",
    "    \n",
    "    os.system('!wget --directory-prefix={} -Nq {}'.format(DATASETS_PATH, au_data_url))"
   ]
  },
  {
   "cell_type": "code",
   "execution_count": 7,
   "metadata": {},
   "outputs": [
    {
     "data": {
      "text/html": [
       "<div>\n",
       "<style scoped>\n",
       "    .dataframe tbody tr th:only-of-type {\n",
       "        vertical-align: middle;\n",
       "    }\n",
       "\n",
       "    .dataframe tbody tr th {\n",
       "        vertical-align: top;\n",
       "    }\n",
       "\n",
       "    .dataframe thead th {\n",
       "        text-align: right;\n",
       "    }\n",
       "</style>\n",
       "<table border=\"1\" class=\"dataframe\">\n",
       "  <thead>\n",
       "    <tr style=\"text-align: right;\">\n",
       "      <th></th>\n",
       "      <th>Name</th>\n",
       "      <th>year</th>\n",
       "      <th>ZIP code</th>\n",
       "      <th>Highest degree offered</th>\n",
       "      <th>County name</th>\n",
       "      <th>Longitude location of institution</th>\n",
       "      <th>Latitude location of institution</th>\n",
       "      <th>Religious affiliation</th>\n",
       "      <th>Offers Less than one year certificate</th>\n",
       "      <th>Offers One but less than two years certificate</th>\n",
       "      <th>...</th>\n",
       "      <th>Percent of freshmen  receiving federal grant aid</th>\n",
       "      <th>Percent of freshmen receiving Pell grants</th>\n",
       "      <th>Percent of freshmen receiving other federal grant aid</th>\n",
       "      <th>Percent of freshmen receiving state/local grant aid</th>\n",
       "      <th>Percent of freshmen receiving institutional grant aid</th>\n",
       "      <th>Percent of freshmen receiving student loan aid</th>\n",
       "      <th>Percent of freshmen receiving federal student loans</th>\n",
       "      <th>Percent of freshmen receiving other loan aid</th>\n",
       "      <th>Endowment assets (year end) per FTE enrollment (GASB)</th>\n",
       "      <th>Endowment assets (year end) per FTE enrollment (FASB)</th>\n",
       "    </tr>\n",
       "    <tr>\n",
       "      <th>ID number</th>\n",
       "      <th></th>\n",
       "      <th></th>\n",
       "      <th></th>\n",
       "      <th></th>\n",
       "      <th></th>\n",
       "      <th></th>\n",
       "      <th></th>\n",
       "      <th></th>\n",
       "      <th></th>\n",
       "      <th></th>\n",
       "      <th></th>\n",
       "      <th></th>\n",
       "      <th></th>\n",
       "      <th></th>\n",
       "      <th></th>\n",
       "      <th></th>\n",
       "      <th></th>\n",
       "      <th></th>\n",
       "      <th></th>\n",
       "      <th></th>\n",
       "      <th></th>\n",
       "    </tr>\n",
       "  </thead>\n",
       "  <tbody>\n",
       "    <tr>\n",
       "      <th>100654</th>\n",
       "      <td>Alabama A &amp; M University</td>\n",
       "      <td>2013</td>\n",
       "      <td>35762</td>\n",
       "      <td>Doctor's degree - research/scholarship</td>\n",
       "      <td>Madison County</td>\n",
       "      <td>-86.568502</td>\n",
       "      <td>34.783368</td>\n",
       "      <td>Not applicable</td>\n",
       "      <td>Implied no</td>\n",
       "      <td>Implied no</td>\n",
       "      <td>...</td>\n",
       "      <td>81.0</td>\n",
       "      <td>81.0</td>\n",
       "      <td>7.0</td>\n",
       "      <td>1.0</td>\n",
       "      <td>32.0</td>\n",
       "      <td>89.0</td>\n",
       "      <td>89.0</td>\n",
       "      <td>1.0</td>\n",
       "      <td>NaN</td>\n",
       "      <td>NaN</td>\n",
       "    </tr>\n",
       "    <tr>\n",
       "      <th>100663</th>\n",
       "      <td>University of Alabama at Birmingham</td>\n",
       "      <td>2013</td>\n",
       "      <td>35294-0110</td>\n",
       "      <td>Doctor's degree - research/scholarship and pro...</td>\n",
       "      <td>Jefferson County</td>\n",
       "      <td>-86.809170</td>\n",
       "      <td>33.502230</td>\n",
       "      <td>Not applicable</td>\n",
       "      <td>Implied no</td>\n",
       "      <td>Yes</td>\n",
       "      <td>...</td>\n",
       "      <td>36.0</td>\n",
       "      <td>36.0</td>\n",
       "      <td>10.0</td>\n",
       "      <td>0.0</td>\n",
       "      <td>60.0</td>\n",
       "      <td>56.0</td>\n",
       "      <td>55.0</td>\n",
       "      <td>5.0</td>\n",
       "      <td>24136.0</td>\n",
       "      <td>NaN</td>\n",
       "    </tr>\n",
       "    <tr>\n",
       "      <th>100690</th>\n",
       "      <td>Amridge University</td>\n",
       "      <td>2013</td>\n",
       "      <td>36117-3553</td>\n",
       "      <td>Doctor's degree - research/scholarship and pro...</td>\n",
       "      <td>Montgomery County</td>\n",
       "      <td>-86.174010</td>\n",
       "      <td>32.362609</td>\n",
       "      <td>Churches of Christ</td>\n",
       "      <td>Implied no</td>\n",
       "      <td>Implied no</td>\n",
       "      <td>...</td>\n",
       "      <td>90.0</td>\n",
       "      <td>90.0</td>\n",
       "      <td>0.0</td>\n",
       "      <td>40.0</td>\n",
       "      <td>90.0</td>\n",
       "      <td>100.0</td>\n",
       "      <td>100.0</td>\n",
       "      <td>0.0</td>\n",
       "      <td>NaN</td>\n",
       "      <td>302.0</td>\n",
       "    </tr>\n",
       "    <tr>\n",
       "      <th>100706</th>\n",
       "      <td>University of Alabama in Huntsville</td>\n",
       "      <td>2013</td>\n",
       "      <td>35899</td>\n",
       "      <td>Doctor's degree - research/scholarship and pro...</td>\n",
       "      <td>Madison County</td>\n",
       "      <td>-86.638420</td>\n",
       "      <td>34.722818</td>\n",
       "      <td>Not applicable</td>\n",
       "      <td>Yes</td>\n",
       "      <td>Implied no</td>\n",
       "      <td>...</td>\n",
       "      <td>31.0</td>\n",
       "      <td>31.0</td>\n",
       "      <td>4.0</td>\n",
       "      <td>1.0</td>\n",
       "      <td>63.0</td>\n",
       "      <td>46.0</td>\n",
       "      <td>46.0</td>\n",
       "      <td>3.0</td>\n",
       "      <td>11502.0</td>\n",
       "      <td>NaN</td>\n",
       "    </tr>\n",
       "    <tr>\n",
       "      <th>100724</th>\n",
       "      <td>Alabama State University</td>\n",
       "      <td>2013</td>\n",
       "      <td>36104-0271</td>\n",
       "      <td>Doctor's degree - research/scholarship and pro...</td>\n",
       "      <td>Montgomery County</td>\n",
       "      <td>-86.295677</td>\n",
       "      <td>32.364317</td>\n",
       "      <td>Not applicable</td>\n",
       "      <td>Implied no</td>\n",
       "      <td>Implied no</td>\n",
       "      <td>...</td>\n",
       "      <td>76.0</td>\n",
       "      <td>76.0</td>\n",
       "      <td>13.0</td>\n",
       "      <td>11.0</td>\n",
       "      <td>34.0</td>\n",
       "      <td>81.0</td>\n",
       "      <td>81.0</td>\n",
       "      <td>0.0</td>\n",
       "      <td>13202.0</td>\n",
       "      <td>NaN</td>\n",
       "    </tr>\n",
       "  </tbody>\n",
       "</table>\n",
       "<p>5 rows × 144 columns</p>\n",
       "</div>"
      ],
      "text/plain": [
       "                                          Name  year    ZIP code  \\\n",
       "ID number                                                          \n",
       "100654                Alabama A & M University  2013       35762   \n",
       "100663     University of Alabama at Birmingham  2013  35294-0110   \n",
       "100690                      Amridge University  2013  36117-3553   \n",
       "100706     University of Alabama in Huntsville  2013       35899   \n",
       "100724                Alabama State University  2013  36104-0271   \n",
       "\n",
       "                                      Highest degree offered  \\\n",
       "ID number                                                      \n",
       "100654                Doctor's degree - research/scholarship   \n",
       "100663     Doctor's degree - research/scholarship and pro...   \n",
       "100690     Doctor's degree - research/scholarship and pro...   \n",
       "100706     Doctor's degree - research/scholarship and pro...   \n",
       "100724     Doctor's degree - research/scholarship and pro...   \n",
       "\n",
       "                 County name  Longitude location of institution  \\\n",
       "ID number                                                         \n",
       "100654        Madison County                         -86.568502   \n",
       "100663      Jefferson County                         -86.809170   \n",
       "100690     Montgomery County                         -86.174010   \n",
       "100706        Madison County                         -86.638420   \n",
       "100724     Montgomery County                         -86.295677   \n",
       "\n",
       "           Latitude location of institution Religious affiliation  \\\n",
       "ID number                                                           \n",
       "100654                            34.783368        Not applicable   \n",
       "100663                            33.502230        Not applicable   \n",
       "100690                            32.362609    Churches of Christ   \n",
       "100706                            34.722818        Not applicable   \n",
       "100724                            32.364317        Not applicable   \n",
       "\n",
       "          Offers Less than one year certificate  \\\n",
       "ID number                                         \n",
       "100654                               Implied no   \n",
       "100663                               Implied no   \n",
       "100690                               Implied no   \n",
       "100706                                      Yes   \n",
       "100724                               Implied no   \n",
       "\n",
       "          Offers One but less than two years certificate  \\\n",
       "ID number                                                  \n",
       "100654                                        Implied no   \n",
       "100663                                               Yes   \n",
       "100690                                        Implied no   \n",
       "100706                                        Implied no   \n",
       "100724                                        Implied no   \n",
       "\n",
       "                                   ...                           \\\n",
       "ID number                          ...                            \n",
       "100654                             ...                            \n",
       "100663                             ...                            \n",
       "100690                             ...                            \n",
       "100706                             ...                            \n",
       "100724                             ...                            \n",
       "\n",
       "          Percent of freshmen  receiving federal grant aid  \\\n",
       "ID number                                                    \n",
       "100654                                                81.0   \n",
       "100663                                                36.0   \n",
       "100690                                                90.0   \n",
       "100706                                                31.0   \n",
       "100724                                                76.0   \n",
       "\n",
       "          Percent of freshmen receiving Pell grants  \\\n",
       "ID number                                             \n",
       "100654                                         81.0   \n",
       "100663                                         36.0   \n",
       "100690                                         90.0   \n",
       "100706                                         31.0   \n",
       "100724                                         76.0   \n",
       "\n",
       "          Percent of freshmen receiving other federal grant aid  \\\n",
       "ID number                                                         \n",
       "100654                                                   7.0      \n",
       "100663                                                  10.0      \n",
       "100690                                                   0.0      \n",
       "100706                                                   4.0      \n",
       "100724                                                  13.0      \n",
       "\n",
       "          Percent of freshmen receiving state/local grant aid  \\\n",
       "ID number                                                       \n",
       "100654                                                   1.0    \n",
       "100663                                                   0.0    \n",
       "100690                                                  40.0    \n",
       "100706                                                   1.0    \n",
       "100724                                                  11.0    \n",
       "\n",
       "          Percent of freshmen receiving institutional grant aid  \\\n",
       "ID number                                                         \n",
       "100654                                                  32.0      \n",
       "100663                                                  60.0      \n",
       "100690                                                  90.0      \n",
       "100706                                                  63.0      \n",
       "100724                                                  34.0      \n",
       "\n",
       "          Percent of freshmen receiving student loan aid  \\\n",
       "ID number                                                  \n",
       "100654                                              89.0   \n",
       "100663                                              56.0   \n",
       "100690                                             100.0   \n",
       "100706                                              46.0   \n",
       "100724                                              81.0   \n",
       "\n",
       "          Percent of freshmen receiving federal student loans  \\\n",
       "ID number                                                       \n",
       "100654                                                  89.0    \n",
       "100663                                                  55.0    \n",
       "100690                                                 100.0    \n",
       "100706                                                  46.0    \n",
       "100724                                                  81.0    \n",
       "\n",
       "          Percent of freshmen receiving other loan aid  \\\n",
       "ID number                                                \n",
       "100654                                             1.0   \n",
       "100663                                             5.0   \n",
       "100690                                             0.0   \n",
       "100706                                             3.0   \n",
       "100724                                             0.0   \n",
       "\n",
       "          Endowment assets (year end) per FTE enrollment (GASB)  \\\n",
       "ID number                                                         \n",
       "100654                                                   NaN      \n",
       "100663                                               24136.0      \n",
       "100690                                                   NaN      \n",
       "100706                                               11502.0      \n",
       "100724                                               13202.0      \n",
       "\n",
       "          Endowment assets (year end) per FTE enrollment (FASB)  \n",
       "ID number                                                        \n",
       "100654                                                   NaN     \n",
       "100663                                                   NaN     \n",
       "100690                                                 302.0     \n",
       "100706                                                   NaN     \n",
       "100724                                                   NaN     \n",
       "\n",
       "[5 rows x 144 columns]"
      ]
     },
     "execution_count": 7,
     "metadata": {},
     "output_type": "execute_result"
    }
   ],
   "source": [
    "# Let's take a look at the american university data\n",
    "universities = pd.read_excel(DATASETS_PATH + au_file_name, index_col='ID number')\n",
    "universities.head()"
   ]
  },
  {
   "cell_type": "code",
   "execution_count": 8,
   "metadata": {},
   "outputs": [
    {
     "data": {
      "text/plain": [
       "1534"
      ]
     },
     "execution_count": 8,
     "metadata": {},
     "output_type": "execute_result"
    }
   ],
   "source": [
    "len(universities)"
   ]
  },
  {
   "cell_type": "markdown",
   "metadata": {},
   "source": [
    "### University Points Dictionary\n",
    "__Let's store the IDs and Location (Lat, Long) of the universities as Shapely Point objects in dictionary__"
   ]
  },
  {
   "cell_type": "code",
   "execution_count": 9,
   "metadata": {},
   "outputs": [
    {
     "name": "stdout",
     "output_type": "stream",
     "text": [
      "0\n",
      "100654\n"
     ]
    }
   ],
   "source": [
    "for idx, id_num in enumerate(universities.index):\n",
    "    print(idx)\n",
    "    print(id_num)\n",
    "    break"
   ]
  },
  {
   "cell_type": "code",
   "execution_count": 10,
   "metadata": {},
   "outputs": [
    {
     "name": "stdout",
     "output_type": "stream",
     "text": [
      "(100654, <shapely.geometry.point.Point object at 0x1a246f9a58>)\n"
     ]
    }
   ],
   "source": [
    "from shapely.geometry import shape\n",
    "\n",
    "# List of tuples to store all the university\n",
    "# locations as Shapely Points\n",
    "uni_list = []\n",
    "\n",
    "for idx, id_num in enumerate(universities.index):\n",
    "    uni_list.append((id_num, shape({\"type\": \"Point\",\n",
    "                                    \"coordinates\": (universities.loc[id_num, 'Longitude location of institution'],\n",
    "                                                    universities.loc[id_num, 'Latitude location of institution'])})))\n",
    "\n",
    "for x in uni_list:\n",
    "    print(x)\n",
    "    break"
   ]
  },
  {
   "cell_type": "markdown",
   "metadata": {},
   "source": [
    "### Saving Data"
   ]
  },
  {
   "cell_type": "markdown",
   "metadata": {},
   "source": [
    "__Courtesy of Caleb Robinson:__\n",
    "\n",
    "This article is a very good discussion of what coordinate reference systems (CRSs) are and why we need them, you should probably read it as a starting point: https://docs.qgis.org/testing/en/docs/gentle_gis_introduction/coordinate_reference_systems.html\n",
    "\n",
    " \n",
    "\n",
    "- Every piece of geographic data will have a CRS. Aaron showed how to see the CRS of shapefiles in Tuesday's lecture, so you can see that notebook for an example of how to find the CRS that your data is in.\n",
    "\n",
    "- Once you have the CRS of your data, then you can look it up on epsg.io to see what units it is in. If you are using Census Tract shapefiles from TIGER then your data will most likely be in EPSG:4269, which has the units of degrees.\n",
    "\n",
    "- The conversion rate from degrees --> km or degrees --> miles changes based on the latitude. For example, 1 degree of latitude is ~68.71 miles at the equator but it is ~68.99 miles at 40 degrees N. Similarly, a degree of longitude is 69.17 at the equator but just 53.06 miles at 40 degrees N.\n",
    "\n",
    "- This means you need to convert your data into an equal area coordinate system that has been specifically designed to represent distances equally. This is of course impossible to do for the entire globe, which is why these coordinate systems are local to different areas (and why big states like California can have many different coordinate systems, different coordinate systems will let you represent distances with different degrees of precision).\n",
    "\n",
    "- One such equal area CRS is the U.S. National Atlas Equal Area Projection - EPSG:2163. You should probably use this.\n",
    "\n",
    "- If you need a realllly high degree of accuracy (for example in the land cover mapping project that I presented - 1m differences matter) then read about the US State Plane Coordinate System - https://en.wikipedia.org/wiki/State_Plane_Coordinate_System. Here, clever people have defined a bunch of coordinate systems (like, over 100) that tile the US and give high degrees of accuracy. This is hard to use for US wide projects.\n",
    "\n",
    "- See the internet/notebook from Tuesday/office hours for how to actually convert your data into EPSG:2163."
   ]
  },
  {
   "cell_type": "markdown",
   "metadata": {},
   "source": [
    "### Changing Coordinate System for Universities"
   ]
  },
  {
   "cell_type": "markdown",
   "metadata": {},
   "source": [
    "__Old University Equal Area CRS__"
   ]
  },
  {
   "cell_type": "code",
   "execution_count": 11,
   "metadata": {},
   "outputs": [],
   "source": [
    "# Setting our coordinate system for the tracts \n",
    "# and universities to EPSG:2163 https://epsg.io/2163\n",
    "uni_gdf = gpd.GeoDataFrame(geometry=[uni_pt for uniid, uni_pt in uni_list], index=[uniid for uniid, uni_pt in uni_list])\n",
    "uni_gdf.crs = {'init': 'epsg:4269'}\n",
    "uni_gdf.to_crs({'init': 'epsg:2163'}, inplace=True);"
   ]
  },
  {
   "cell_type": "markdown",
   "metadata": {},
   "source": [
    "__New University Equal Area CRS__"
   ]
  },
  {
   "cell_type": "code",
   "execution_count": 12,
   "metadata": {},
   "outputs": [
    {
     "data": {
      "text/html": [
       "<div>\n",
       "<style scoped>\n",
       "    .dataframe tbody tr th:only-of-type {\n",
       "        vertical-align: middle;\n",
       "    }\n",
       "\n",
       "    .dataframe tbody tr th {\n",
       "        vertical-align: top;\n",
       "    }\n",
       "\n",
       "    .dataframe thead th {\n",
       "        text-align: right;\n",
       "    }\n",
       "</style>\n",
       "<table border=\"1\" class=\"dataframe\">\n",
       "  <thead>\n",
       "    <tr style=\"text-align: right;\">\n",
       "      <th></th>\n",
       "      <th>geometry</th>\n",
       "    </tr>\n",
       "  </thead>\n",
       "  <tbody>\n",
       "    <tr>\n",
       "      <th>100654</th>\n",
       "      <td>POINT (1225201.891594255 -1037087.540014169)</td>\n",
       "    </tr>\n",
       "    <tr>\n",
       "      <th>100663</th>\n",
       "      <td>POINT (1223240.312223427 -1181383.792952623)</td>\n",
       "    </tr>\n",
       "    <tr>\n",
       "      <th>100690</th>\n",
       "      <td>POINT (1299587.523129071 -1297132.337559302)</td>\n",
       "    </tr>\n",
       "    <tr>\n",
       "      <th>100706</th>\n",
       "      <td>POINT (1219845.437091383 -1044756.037902317)</td>\n",
       "    </tr>\n",
       "    <tr>\n",
       "      <th>100724</th>\n",
       "      <td>POINT (1288245.395679843 -1298787.753572568)</td>\n",
       "    </tr>\n",
       "  </tbody>\n",
       "</table>\n",
       "</div>"
      ],
      "text/plain": [
       "                                            geometry\n",
       "100654  POINT (1225201.891594255 -1037087.540014169)\n",
       "100663  POINT (1223240.312223427 -1181383.792952623)\n",
       "100690  POINT (1299587.523129071 -1297132.337559302)\n",
       "100706  POINT (1219845.437091383 -1044756.037902317)\n",
       "100724  POINT (1288245.395679843 -1298787.753572568)"
      ]
     },
     "execution_count": 12,
     "metadata": {},
     "output_type": "execute_result"
    }
   ],
   "source": [
    "uni_gdf.head()"
   ]
  },
  {
   "cell_type": "markdown",
   "metadata": {},
   "source": [
    "__Universities Plot__"
   ]
  },
  {
   "cell_type": "code",
   "execution_count": 13,
   "metadata": {},
   "outputs": [
    {
     "data": {
      "image/png": "[encoded data removed]",
      "text/plain": [
       "<Figure size 864x576 with 1 Axes>"
      ]
     },
     "metadata": {},
     "output_type": "display_data"
    }
   ],
   "source": [
    "uni_gdf.plot(figsize=(12, 8), alpha=0.1)\n",
    "plt.grid();"
   ]
  },
  {
   "cell_type": "markdown",
   "metadata": {},
   "source": [
    "### University RTree Index\n",
    "__Let's store the IDs and Location (Lat, Long) of the universities in an RTree Index__"
   ]
  },
  {
   "cell_type": "code",
   "execution_count": 14,
   "metadata": {},
   "outputs": [
    {
     "name": "stderr",
     "output_type": "stream",
     "text": [
      "1534it [00:00, 6198.33it/s]\n",
      "1534it [00:00, 4354.22it/s]\n"
     ]
    }
   ],
   "source": [
    "# ----------------------------\n",
    "# Initialize rtree spatial index\n",
    "# with just its centroid\n",
    "uni_index = rtree.index.Index()\n",
    "\n",
    "# Iterate over all american universities\n",
    "for idx, (id_num, uni) in tqdm(enumerate(uni_gdf.iterrows())):\n",
    "    \n",
    "    # add coordinates of univeristy location and store id along with it\n",
    "    uni_index.insert(idx, coordinates=uni.geometry.bounds, obj=id_num)\n",
    "\n",
    "    # we can now query this datastructure with a point and it will tell us which \n",
    "    # polygon it lies in\n",
    "    \n",
    "# ----------------------------\n",
    "# Initialize rtree spatial index\n",
    "# with a buffer around each\n",
    "# university\n",
    "uni_buffer_index = rtree.index.Index()\n",
    "\n",
    "# Iterate over all american universities\n",
    "for idx, (id_num, uni) in tqdm(enumerate(uni_gdf.iterrows())):\n",
    "    \n",
    "    # add coordinates of univeristy location and store id along with it\n",
    "    uni_buffer_index.insert(idx, coordinates=uni.geometry.buffer(BUFFER).bounds, obj=id_num)\n",
    "\n",
    "    # we can now query this datastructure with a point and it will tell us which \n",
    "    # polygon it lies in"
   ]
  },
  {
   "cell_type": "markdown",
   "metadata": {},
   "source": [
    "---\n",
    "## Census Tract Shape Files"
   ]
  },
  {
   "cell_type": "code",
   "execution_count": 15,
   "metadata": {},
   "outputs": [],
   "source": [
    "# Make request to get the webpage\n",
    "r = requests.get(ct_shape_url)\n",
    "soup = BeautifulSoup(r.content, \"html.parser\")\n",
    "\n",
    "# Get the download links from the dropdown <option> tag\n",
    "locations = soup.find('select',\n",
    "                      {'name':'Location',\n",
    "                       'id':'ct2017m'}).findChildren('option' , recursive=False)[1:]\n",
    "\n",
    "# Put all the states and the urls for their shape files in a dictionary\n",
    "state_urls = {location.text.strip() : location.attrs['value'] for location in locations}"
   ]
  },
  {
   "cell_type": "code",
   "execution_count": 16,
   "metadata": {},
   "outputs": [],
   "source": [
    "# Download data \n",
    "if not os.path.isdir(CENSUS_TRACTS_PATH):\n",
    "    \n",
    "    # Make the directory for the census tracts shapefiles data\n",
    "    mkdir(CENSUS_TRACTS_PATH)\n",
    "    \n",
    "    for state, state_url in state_urls.items():\n",
    "        os.system('wget --directory-prefix={} -Nq {}'.format(CENSUS_TRACTS_PATH, state_url))\n",
    "        \n",
    "    # Storing the shape file names\n",
    "    census_tract_shapefiles = []\n",
    "    for state, state_url in state_urls.items():\n",
    "\n",
    "        # Extracting the name of shapefile\n",
    "        shapefile = state_url[state_url.rindex('/') + 1:]\n",
    "        census_tract_shapefiles.append(shapefile)\n",
    "\n",
    "        # Renaming the file\n",
    "        os.rename(CENSUS_TRACTS_PATH + shapefile, CENSUS_TRACTS_PATH + state + '.zip')\n",
    "\n",
    "        # Unzipping the file\n",
    "        zip_ref = zipfile.ZipFile(CENSUS_TRACTS_PATH + state + '.zip', 'r')\n",
    "        zip_ref.extractall(CENSUS_TRACTS_PATH + state + '/')\n",
    "        zip_ref.close()\n",
    "\n",
    "        # Remove the old census tract .zip shapefile\n",
    "        subprocess.call(['rm', '-rf', CENSUS_TRACTS_PATH + state + '.zip'])"
   ]
  },
  {
   "cell_type": "markdown",
   "metadata": {},
   "source": [
    "### Census Tract Centroid Points Dictionary\n",
    "__Let's store the geoIDs and Location (Lat, Long) of the census tract centroids as Shapely Point objects in dictionary__"
   ]
  },
  {
   "cell_type": "code",
   "execution_count": 17,
   "metadata": {},
   "outputs": [],
   "source": [
    "# Shapely library to help with calculation\n",
    "# of the representative centroid position\n",
    "from shapely.geometry import MultiPoint\n",
    "\n",
    "# ----------------------------\n",
    "# Let's calculate and store each of \n",
    "# the centroids of each\n",
    "# census tract in a list of tuples\n",
    "tract_centroids = []\n",
    "\n",
    "# ----------------------------\n",
    "# Let's store a list of each census \n",
    "# tract's geometry as well\n",
    "tract_list = []\n",
    "    \n",
    "for subdir, dirs, files in list(os.walk(CENSUS_TRACTS_PATH))[1:]:\n",
    "    \n",
    "    # Opening the shapefile\n",
    "    state_shapes = fiona.open(subdir, 'r')\n",
    "#     state_shapes = gpd.read_file(subdir)\n",
    "    \n",
    "    # Looping through each census tract in each state and \n",
    "    # making key: geoid, value: centroid position\n",
    "    # of (longitude, latitude) as well as building the \n",
    "    # RTree index for census tracts\n",
    "    for idx, census_tract in enumerate(state_shapes):\n",
    "        \n",
    "        geoid = census_tract['properties']['GEOID']\n",
    "        geometry = np.array(census_tract['geometry']['coordinates'])\n",
    "        points = None\n",
    "        \n",
    "        # Some of the geometries are in a 2d and some in 3d array\n",
    "        if len([True for lat_long in geometry[0] if len(lat_long) != 2]) > 0:\n",
    "            \n",
    "            # Create the Multipoint object to find centroid\n",
    "            points = MultiPoint(geometry[0][0])\n",
    "            \n",
    "        else:\n",
    "            \n",
    "            # Create the Multipoint object to find centroid\n",
    "            points = MultiPoint(geometry[0])\n",
    "        \n",
    "        # ----------------------------\n",
    "        # Create Census tract Polygon\n",
    "        tract = shapely.geometry.shape(census_tract['geometry'])\n",
    "        \n",
    "        # ----------------------------\n",
    "        # Store the Census tract Polygon\n",
    "        # in our list for the RTree index\n",
    "        # later on\n",
    "        tract_list.append((geoid, tract))\n",
    "        \n",
    "        # ----------------------------\n",
    "        # Create Census tract Centroid\n",
    "        # True centroid, not necessarily an existing point\n",
    "        centroid_pt = points.centroid\n",
    "        \n",
    "        # A represenative point, not centroid,\n",
    "        # that is guarnateed to be with the geometry\n",
    "        tract_centroids.append((geoid, shapely.geometry.shape(points.representative_point())))"
   ]
  },
  {
   "cell_type": "code",
   "execution_count": 18,
   "metadata": {},
   "outputs": [
    {
     "data": {
      "text/plain": [
       "73874"
      ]
     },
     "execution_count": 18,
     "metadata": {},
     "output_type": "execute_result"
    }
   ],
   "source": [
    "# Number of census tracts\n",
    "len(tract_centroids)"
   ]
  },
  {
   "cell_type": "code",
   "execution_count": 19,
   "metadata": {},
   "outputs": [
    {
     "name": "stdout",
     "output_type": "stream",
     "text": [
      "('29001950900', <shapely.geometry.point.Point object at 0x1a245ded68>)\n"
     ]
    }
   ],
   "source": [
    "for x in tract_centroids:\n",
    "    print(x)\n",
    "    break"
   ]
  },
  {
   "cell_type": "markdown",
   "metadata": {},
   "source": [
    "__TODO: Problem with shape of the geometry, I thought it was supposed to be a list of size=2 tuples.__\n",
    "\n",
    "__UPDATE: I reduced the 3D and 2D arrays to 1D, hopefully I didn't miss information__"
   ]
  },
  {
   "cell_type": "markdown",
   "metadata": {},
   "source": [
    "### Changing coordinate system for Census Tracts"
   ]
  },
  {
   "cell_type": "markdown",
   "metadata": {},
   "source": [
    "__Old Census Tract Equal Area CRS__"
   ]
  },
  {
   "cell_type": "code",
   "execution_count": 20,
   "metadata": {},
   "outputs": [],
   "source": [
    "# Setting our coordinate system for the tracts \n",
    "# and universities to EPSG:2163 https://epsg.io/2163\n",
    "tract_gdf = gpd.GeoDataFrame(geometry=[tract_shape for geoid, tract_shape in tract_list], index=[geoid for geoid, tract_pt in tract_list])\n",
    "tract_gdf.crs = {'init': 'epsg:4269'}\n",
    "tract_gdf.to_crs({'init': 'epsg:2163'}, inplace=True)\n",
    "\n",
    "tract_centroids_gdf = gpd.GeoDataFrame(geometry=[tract_pt for geoid, tract_pt in tract_centroids], index=[geoid for geoid, tract_pt in tract_centroids])\n",
    "tract_centroids_gdf.crs = {'init': 'epsg:4269'}\n",
    "tract_centroids_gdf.to_crs({'init': 'epsg:2163'}, inplace=True)"
   ]
  },
  {
   "cell_type": "markdown",
   "metadata": {},
   "source": [
    "__New Census Tract Equal Area CRS__"
   ]
  },
  {
   "cell_type": "code",
   "execution_count": 21,
   "metadata": {},
   "outputs": [
    {
     "data": {
      "text/html": [
       "<div>\n",
       "<style scoped>\n",
       "    .dataframe tbody tr th:only-of-type {\n",
       "        vertical-align: middle;\n",
       "    }\n",
       "\n",
       "    .dataframe tbody tr th {\n",
       "        vertical-align: top;\n",
       "    }\n",
       "\n",
       "    .dataframe thead th {\n",
       "        text-align: right;\n",
       "    }\n",
       "</style>\n",
       "<table border=\"1\" class=\"dataframe\">\n",
       "  <thead>\n",
       "    <tr style=\"text-align: right;\">\n",
       "      <th></th>\n",
       "      <th>geometry</th>\n",
       "    </tr>\n",
       "  </thead>\n",
       "  <tbody>\n",
       "    <tr>\n",
       "      <th>29001950900</th>\n",
       "      <td>POLYGON ((629242.0316918371 -506221.3254062997...</td>\n",
       "    </tr>\n",
       "    <tr>\n",
       "      <th>29007950100</th>\n",
       "      <td>POLYGON ((726058.4147780467 -594058.6638516618...</td>\n",
       "    </tr>\n",
       "    <tr>\n",
       "      <th>29009960100</th>\n",
       "      <td>POLYGON ((549396.9598456144 -886283.8071082532...</td>\n",
       "    </tr>\n",
       "    <tr>\n",
       "      <th>29019001201</th>\n",
       "      <td>POLYGON ((657151.3594785809 -643289.4193804697...</td>\n",
       "    </tr>\n",
       "    <tr>\n",
       "      <th>29021000600</th>\n",
       "      <td>POLYGON ((441856.9767450066 -565820.0687293162...</td>\n",
       "    </tr>\n",
       "  </tbody>\n",
       "</table>\n",
       "</div>"
      ],
      "text/plain": [
       "                                                      geometry\n",
       "29001950900  POLYGON ((629242.0316918371 -506221.3254062997...\n",
       "29007950100  POLYGON ((726058.4147780467 -594058.6638516618...\n",
       "29009960100  POLYGON ((549396.9598456144 -886283.8071082532...\n",
       "29019001201  POLYGON ((657151.3594785809 -643289.4193804697...\n",
       "29021000600  POLYGON ((441856.9767450066 -565820.0687293162..."
      ]
     },
     "execution_count": 21,
     "metadata": {},
     "output_type": "execute_result"
    }
   ],
   "source": [
    "tract_gdf.head()"
   ]
  },
  {
   "cell_type": "markdown",
   "metadata": {},
   "source": [
    "__Census Tract Plot__"
   ]
  },
  {
   "cell_type": "code",
   "execution_count": 22,
   "metadata": {},
   "outputs": [
    {
     "data": {
      "image/png": "[encoded data removed]",
      "text/plain": [
       "<Figure size 864x576 with 1 Axes>"
      ]
     },
     "metadata": {},
     "output_type": "display_data"
    }
   ],
   "source": [
    "tract_gdf.plot(figsize=(12, 8))\n",
    "plt.grid();"
   ]
  },
  {
   "cell_type": "markdown",
   "metadata": {},
   "source": [
    "### Census Tract RTree Index\n",
    "__Let's store the geoIDs and Location (Lat, Long) of the census tract centroids in an RTree Index__"
   ]
  },
  {
   "cell_type": "code",
   "execution_count": 23,
   "metadata": {},
   "outputs": [
    {
     "name": "stderr",
     "output_type": "stream",
     "text": [
      "73874it [00:14, 5085.50it/s]\n",
      "73874it [00:13, 5558.39it/s]\n",
      "73874it [00:19, 3865.06it/s]\n"
     ]
    }
   ],
   "source": [
    "# ----------------------------\n",
    "# Initialize rtree spatial index\n",
    "tract_index = rtree.index.Index()\n",
    "    \n",
    "# Iterate over all census tract centroids\n",
    "for idx, (geoid, tract) in tqdm(enumerate(tract_gdf.iterrows())):\n",
    "    \n",
    "    # add coordinates of census tract and store geoid along with it\n",
    "    tract_index.insert(idx, coordinates=tract.geometry.bounds, obj=geoid)\n",
    "\n",
    "    # we can now query this datastructure with a point and it will tell us which \n",
    "    # polygon it lies in\n",
    "    \n",
    "# ----------------------------\n",
    "# Initialize rtree spatial index\n",
    "# for census tract centroids with\n",
    "# CENTROID point bounding box\n",
    "tract_centroid_index = rtree.index.Index()\n",
    "    \n",
    "# Iterate over all census tract centroids\n",
    "for idx, (geoid, centroid) in tqdm(enumerate(tract_centroids_gdf.iterrows())):\n",
    "    \n",
    "    # add coordinates of census tract and store geoid along with it\n",
    "    tract_centroid_index.insert(idx, coordinates=centroid.geometry.bounds, obj=geoid)\n",
    "\n",
    "    # we can now query this datastructure with a point and it will tell us which \n",
    "    # polygon it lies in\n",
    "    \n",
    "# ----------------------------\n",
    "# Initialize rtree spatial index\n",
    "# for census tract centroids with\n",
    "# buffer bounding box\n",
    "tract_buffer_index = rtree.index.Index()\n",
    "    \n",
    "# Iterate over all census tract centroids\n",
    "for idx, (geoid, centroid) in tqdm(enumerate(tract_centroids_gdf.iterrows())):\n",
    "    \n",
    "    # add coordinates of census tract and store geoid along with it\n",
    "    tract_buffer_index.insert(idx, coordinates=centroid.geometry.buffer(BUFFER).bounds, obj=geoid)\n",
    "\n",
    "    # we can now query this datastructure with a point and it will tell us which \n",
    "    # polygon it lies in"
   ]
  },
  {
   "cell_type": "markdown",
   "metadata": {},
   "source": [
    "### Census Tract Graph\n",
    "\n",
    "__We will loop through each census tract and for each census tract, compute it's distance to all other ${n - 1}$ census tracts, storing it in a graph as the edge weights for each census tract node - Essentially creating a ${K_{73,874}}$ Complete Graph__"
   ]
  },
  {
   "cell_type": "code",
   "execution_count": 24,
   "metadata": {},
   "outputs": [],
   "source": [
    "# Haversine formula to calculate \n",
    "# geographical distance between 2 pairs of\n",
    "# latitude, longitude coordinates\n",
    "from haversine import haversine\n",
    "\n",
    "# The Census Tract Graph where each node represents\n",
    "# a census tract and each edge exists if and only if\n",
    "# the two census tracts are within 50 miles of each\n",
    "# other\n",
    "class CT_Graph:\n",
    "    \n",
    "    # The Nodes (Census Tracts)\n",
    "    class Node:\n",
    "        def __init__(self, geo_id, coordinates):\n",
    "            self._geo_id = geo_id\n",
    "            self._coordinates = coordinates\n",
    "        \n",
    "        # US Census Tract Geo ID\n",
    "        @property\n",
    "        def geo_id(self):\n",
    "            return self._geo_id\n",
    "        \n",
    "        @geo_id.setter\n",
    "        def geo_id(self, value):\n",
    "            self._geo_id = value\n",
    "        \n",
    "        # Census tract centroid location \n",
    "        # Type: Point\n",
    "        # Format: (latitude, longitude)\n",
    "        @property\n",
    "        def coordinates(self):\n",
    "            return self._coordinates\n",
    "        \n",
    "        @coordinates.setter\n",
    "        def coordinates(self, value):\n",
    "            self._coordinates = value\n",
    "        \n",
    "    # The Edges (Connections from centroids to centroids)\n",
    "    class Edge:\n",
    "        def __init__(self, node_pair, distance):\n",
    "            self._node_pair = node_pair\n",
    "            \n",
    "            # Storing Haversine Distance in miles\n",
    "            self._distance = distance\n",
    "\n",
    "        # Tuple of 2 Nodes\n",
    "        @property\n",
    "        def node_pair(self):\n",
    "            return self._node_pair\n",
    "        \n",
    "        @node_pair.setter\n",
    "        def node_pair(self, value):\n",
    "            self._node_pair = value\n",
    "        \n",
    "        # Edge Weight / Haversine Distance\n",
    "        # between the pairs of lat longs\n",
    "        @property\n",
    "        def distance(self):\n",
    "            return self._distance\n",
    "        \n",
    "        @distance.setter\n",
    "        def distance(self, value):\n",
    "            self._distance = value\n",
    "        \n",
    "    def __init__(self, census_tracts_centroids):\n",
    "        self._threshold_distance = 50\n",
    "        self._nodes = []\n",
    "        self._edges = []\n",
    "        \n",
    "        # Creating all my nodes O(n)\n",
    "        for geo_id, coordinates in census_tracts_centroids.items():\n",
    "            self._nodes.append(CT_Graph.Node(geo_id, coordinates))\n",
    "         \n",
    "        # Creating all my edges O(n^2)\n",
    "        for idx, node1 in tqdm(enumerate(self._nodes)):\n",
    "            \n",
    "            for node2 in self._nodes[idx + 1:]:\n",
    "                \n",
    "                # Calculating Haversine Distance\n",
    "                distance = haversine(*[(node.coordinates.x, node.coordinates.y) for node in (node1, node2)], unit='mi')\n",
    "                \n",
    "                # Add the Edge only if Haversine Distance is less than 50 miles\n",
    "                if distance <= self._threshold_distance:\n",
    "                    self._edges.append(CT_Graph.Edge((node1, node2), distance))\n",
    "        \n",
    "    # List of Census Tract nodes\n",
    "    @property\n",
    "    def nodes(self):\n",
    "        return self._nodes\n",
    "\n",
    "    @nodes.setter\n",
    "    def nodes(self, value):\n",
    "        self._nodes = value\n",
    "\n",
    "    # List of Census Tract edges\n",
    "    @property\n",
    "    def edges(self):\n",
    "        return self._edges\n",
    "\n",
    "    @edges.setter\n",
    "    def edges(self, value):\n",
    "        self._edges = value"
   ]
  },
  {
   "cell_type": "code",
   "execution_count": 25,
   "metadata": {
    "scrolled": true
   },
   "outputs": [],
   "source": [
    "# Initializing Census Tract Graph (THIS WILL TAKE SUPER LONG TO RUN)\n",
    "# ct_graph = CT_Graph(tract_centroids) "
   ]
  },
  {
   "cell_type": "markdown",
   "metadata": {},
   "source": [
    "__Finding out which of the census tracts are 50 miles (80467.2 metres) away from each other__"
   ]
  },
  {
   "cell_type": "code",
   "execution_count": 78,
   "metadata": {
    "scrolled": true
   },
   "outputs": [
    {
     "name": "stderr",
     "output_type": "stream",
     "text": [
      "73874it [02:15, 545.02it/s] \n"
     ]
    }
   ],
   "source": [
    "# Dictionary of Key: GeoID\n",
    "# Value: List(GeoID)\n",
    "# Contains which census tract centroids are accessible to \n",
    "# that census tract within BUFFER radius\n",
    "tracts_in_buffer = defaultdict(list)\n",
    "\n",
    "# 1. Go through each census tract centroid\n",
    "# 2. Create a BOUNDING BOX of BUFFER radius around that centroid\n",
    "# 3. Find which centroids are inside that BOX\n",
    "# 4. Check if that centroid exists in the BUFFER CIRCLE of the census tract \n",
    "for idx, (geoid, centroid) in tqdm(enumerate(tract_centroids_gdf.iterrows())):\n",
    "    \n",
    "    tracts_in_buffer[geoid] = []\n",
    "    \n",
    "    # get iterable (generator) of indices from RTree index of census tracts centroids\n",
    "    # that are contained within a BUFFER BOX of the current centroid\n",
    "    # http://toblerity.org/rtree/tutorial.html#intersection\n",
    "    for overlapping_ind in tract_centroid_index.intersection(centroid.geometry.buffer(BUFFER).bounds):\n",
    "        \n",
    "        # Check if current tract centroid's BUFFER CIRCLE\n",
    "        # contains the overlapping index's CENTROID\n",
    "        if tract_centroids_gdf.iloc[overlapping_ind].name != geoid and centroid.geometry.buffer(BUFFER).contains(shapely.geometry.shape(tract_centroids_gdf.iloc[overlapping_ind].geometry)):\n",
    "        \n",
    "            # add the overlapping_ind's geoID of the census tract into the current census tract's list\n",
    "            # of census tracts accessible within buffer radius\n",
    "            tracts_in_buffer[geoid].append(tract_centroids_gdf.iloc[overlapping_ind].name)\n",
    "            "
   ]
  },
  {
   "cell_type": "code",
   "execution_count": 79,
   "metadata": {},
   "outputs": [
    {
     "name": "stdout",
     "output_type": "stream",
     "text": [
      "('29001950900', ['29001951000', '29001950400'])\n"
     ]
    }
   ],
   "source": [
    "# Let's take a peak\n",
    "for x in tracts_in_buffer.items():\n",
    "    print(x)\n",
    "    break"
   ]
  },
  {
   "cell_type": "markdown",
   "metadata": {},
   "source": [
    "__Sanity check on whether we computed the 50 mile radius census tracts correctly__"
   ]
  },
  {
   "cell_type": "code",
   "execution_count": 80,
   "metadata": {},
   "outputs": [
    {
     "data": {
      "image/png": "[encoded data removed]",
      "text/plain": [
       "<Figure size 720x720 with 1 Axes>"
      ]
     },
     "metadata": {},
     "output_type": "display_data"
    }
   ],
   "source": [
    "y, z = x\n",
    "\n",
    "w = np.array([(tract_centroids_gdf.loc[l].geometry.xy[0][0]) for l in z])\n",
    "p = np.array([(tract_centroids_gdf.loc[l].geometry.xy[1][0]) for l in z])\n",
    "w = np.append(w, tract_centroids_gdf.loc[y].geometry.xy[0][0])\n",
    "p = np.append(p, tract_centroids_gdf.loc[y].geometry.xy[1][0])\n",
    "\n",
    "colors = ['g' for i in range(len(p) - 1)] + ['r']\n",
    "\n",
    "fig, axs = plt.subplots(figsize=(10, 10))\n",
    "axs.fill(tract_centroids_gdf.loc[y].geometry.buffer(BUFFER).exterior.coords.xy[0], \n",
    "         tract_centroids_gdf.loc[y].geometry.buffer(BUFFER).exterior.coords.xy[1], alpha=.25, fc='b', ec='none')\n",
    "axs.scatter(w, p, c=colors);"
   ]
  },
  {
   "cell_type": "code",
   "execution_count": 81,
   "metadata": {},
   "outputs": [],
   "source": [
    "# Store centroid BUFFER dict to file\n",
    "# with open('./datasets/tracts_in_buffer.json', 'w') as fp:\n",
    "#     json.dump(tracts_in_buffer, fp)"
   ]
  },
  {
   "cell_type": "markdown",
   "metadata": {},
   "source": [
    "__Finding out which of the census tracts are education deserts or not__"
   ]
  },
  {
   "cell_type": "code",
   "execution_count": 82,
   "metadata": {
    "scrolled": true
   },
   "outputs": [
    {
     "name": "stderr",
     "output_type": "stream",
     "text": [
      "73874it [00:18, 3917.03it/s]\n"
     ]
    }
   ],
   "source": [
    "# Dictionary of Keys: geoId\n",
    "# Value: List(id_num of university)\n",
    "# Contains which universities are accessible to \n",
    "# that census tract within BUFFER radius\n",
    "tract_universities = defaultdict(list)\n",
    "\n",
    "# 1. Go through each census tract centroid\n",
    "# 2. Create a BOUNDING BOX of BUFFER radius around that centroid\n",
    "# 3. Find which universities are inside that BOX\n",
    "# 4. Check if that university exists in the BUFFER CIRCLE of the census tract \n",
    "for idx, (geoid, centroid) in tqdm(enumerate(tract_centroids_gdf.iterrows())):\n",
    "    \n",
    "    tract_universities[geoid] = []\n",
    "    \n",
    "    # get iterable (generator) of indices from RTree index of universities\n",
    "    # that are contained within a BUFFER BOX of the current centroid\n",
    "    # http://toblerity.org/rtree/tutorial.html#intersection\n",
    "    for overlapping_ind in uni_index.intersection(centroid.geometry.buffer(BUFFER).bounds):\n",
    "        \n",
    "        # Check if current tract centroid's BUFFER CIRCLE\n",
    "        # contains the overlapping UNIVERSITY index's centre point\n",
    "        if centroid.geometry.buffer(BUFFER).contains(shapely.geometry.shape(uni_gdf.iloc[overlapping_ind].geometry)):\n",
    "        \n",
    "            # add the overlapping_ind's geoID of the census tract into the current census tract's list\n",
    "            # of census tracts accessible within buffer radius\n",
    "            tract_universities[geoid].append(str(uni_gdf.iloc[overlapping_ind].name))\n"
   ]
  },
  {
   "cell_type": "code",
   "execution_count": 83,
   "metadata": {},
   "outputs": [
    {
     "name": "stdout",
     "output_type": "stream",
     "text": [
      "('29001950900', ['178615'])\n"
     ]
    }
   ],
   "source": [
    "# Let's take a peak\n",
    "for x in tract_universities.items():\n",
    "    print(x)\n",
    "    break"
   ]
  },
  {
   "cell_type": "markdown",
   "metadata": {},
   "source": [
    "__Sanity check on whether we computed the 50 mile radius census tracts correctly__"
   ]
  },
  {
   "cell_type": "code",
   "execution_count": 84,
   "metadata": {},
   "outputs": [
    {
     "data": {
      "image/png": "[encoded data removed]",
      "text/plain": [
       "<Figure size 720x720 with 1 Axes>"
      ]
     },
     "metadata": {},
     "output_type": "display_data"
    }
   ],
   "source": [
    "y, z = x\n",
    "\n",
    "w = np.array([(uni_gdf.loc[int(l)].geometry.xy[0][0]) for l in z])\n",
    "p = np.array([(uni_gdf.loc[int(l)].geometry.xy[1][0]) for l in z])\n",
    "w = np.append(w, tract_centroids_gdf.loc[y].geometry.xy[0][0])\n",
    "p = np.append(p, tract_centroids_gdf.loc[y].geometry.xy[1][0])\n",
    "\n",
    "colors = ['g' for i in range(len(p) - 1)] + ['r']\n",
    "\n",
    "fig, axs = plt.subplots(figsize=(10, 10))\n",
    "axs.fill(tract_centroids_gdf.loc[y].geometry.buffer(BUFFER).exterior.coords.xy[0], \n",
    "         tract_centroids_gdf.loc[y].geometry.buffer(BUFFER).exterior.coords.xy[1], alpha=.25, fc='b', ec='none')\n",
    "axs.scatter(w, p, c=colors);"
   ]
  },
  {
   "cell_type": "code",
   "execution_count": 85,
   "metadata": {},
   "outputs": [],
   "source": [
    "# Store centroid BUFFER dict of universities to file\n",
    "# with open('./datasets/tract_universities.json', 'w') as fp:\n",
    "#     json.dump(tract_universities, fp)"
   ]
  },
  {
   "cell_type": "code",
   "execution_count": 86,
   "metadata": {},
   "outputs": [],
   "source": [
    "# Create a dictionary of number of universities accessible to each census tract\n",
    "num_accessible_unis = {geoid: len(unis) for geoid, unis in tract_universities.items()}"
   ]
  },
  {
   "cell_type": "code",
   "execution_count": 87,
   "metadata": {},
   "outputs": [
    {
     "data": {
      "text/html": [
       "<div>\n",
       "<style scoped>\n",
       "    .dataframe tbody tr th:only-of-type {\n",
       "        vertical-align: middle;\n",
       "    }\n",
       "\n",
       "    .dataframe tbody tr th {\n",
       "        vertical-align: top;\n",
       "    }\n",
       "\n",
       "    .dataframe thead th {\n",
       "        text-align: right;\n",
       "    }\n",
       "</style>\n",
       "<table border=\"1\" class=\"dataframe\">\n",
       "  <thead>\n",
       "    <tr style=\"text-align: right;\">\n",
       "      <th></th>\n",
       "      <th>Number of Accessible Universities</th>\n",
       "      <th>Education Desert</th>\n",
       "    </tr>\n",
       "  </thead>\n",
       "  <tbody>\n",
       "    <tr>\n",
       "      <th>29001950900</th>\n",
       "      <td>1</td>\n",
       "      <td>0</td>\n",
       "    </tr>\n",
       "    <tr>\n",
       "      <th>29007950100</th>\n",
       "      <td>0</td>\n",
       "      <td>1</td>\n",
       "    </tr>\n",
       "    <tr>\n",
       "      <th>29009960100</th>\n",
       "      <td>0</td>\n",
       "      <td>1</td>\n",
       "    </tr>\n",
       "    <tr>\n",
       "      <th>29019001201</th>\n",
       "      <td>0</td>\n",
       "      <td>1</td>\n",
       "    </tr>\n",
       "    <tr>\n",
       "      <th>29021000600</th>\n",
       "      <td>0</td>\n",
       "      <td>1</td>\n",
       "    </tr>\n",
       "  </tbody>\n",
       "</table>\n",
       "</div>"
      ],
      "text/plain": [
       "             Number of Accessible Universities  Education Desert\n",
       "29001950900                                  1                 0\n",
       "29007950100                                  0                 1\n",
       "29009960100                                  0                 1\n",
       "29019001201                                  0                 1\n",
       "29021000600                                  0                 1"
      ]
     },
     "execution_count": 87,
     "metadata": {},
     "output_type": "execute_result"
    }
   ],
   "source": [
    "# Creating Pandas Dataframe from dictionary\n",
    "education_deserts = pd.DataFrame.from_dict(num_accessible_unis, orient='index', columns=['Number of Accessible Universities'])\n",
    "education_deserts['Education Desert'] = 0\n",
    "education_deserts.loc[education_deserts['Number of Accessible Universities'] == 0, 'Education Desert'] = 1\n",
    "education_deserts.head()"
   ]
  },
  {
   "cell_type": "code",
   "execution_count": 88,
   "metadata": {},
   "outputs": [
    {
     "name": "stdout",
     "output_type": "stream",
     "text": [
      "Number of Education Deserts in our dataset: 69467\n",
      "Number of Non-Education Deserts in our dataset: 4407\n"
     ]
    }
   ],
   "source": [
    "print('Number of Education Deserts in our dataset: {}'.format(len(education_deserts[education_deserts['Education Desert'] == 1])))\n",
    "print('Number of Non-Education Deserts in our dataset: {}'.format(len(education_deserts[education_deserts['Education Desert'] == 0])))"
   ]
  },
  {
   "cell_type": "code",
   "execution_count": 89,
   "metadata": {},
   "outputs": [],
   "source": [
    "# Write to csv file\n",
    "# education_deserts.to_csv(r'./datasets/education_deserts.csv')"
   ]
  }
 ],
 "metadata": {
  "kernelspec": {
   "display_name": "Python 3",
   "language": "python",
   "name": "python3"
  },
  "language_info": {
   "codemirror_mode": {
    "name": "ipython",
    "version": 3
   },
   "file_extension": ".py",
   "mimetype": "text/x-python",
   "name": "python",
   "nbconvert_exporter": "python",
   "pygments_lexer": "ipython3",
   "version": "3.6.8"
  }
 },
 "nbformat": 4,
 "nbformat_minor": 2
}
